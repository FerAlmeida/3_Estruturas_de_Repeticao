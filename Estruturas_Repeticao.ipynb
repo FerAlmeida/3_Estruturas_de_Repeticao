{
 "cells": [
  {
   "cell_type": "markdown",
   "metadata": {},
   "source": [
    "#### Estruturas de Repetição"
   ]
  },
  {
   "cell_type": "code",
   "execution_count": 1,
   "metadata": {},
   "outputs": [
    {
     "name": "stdout",
     "output_type": "stream",
     "text": [
      "Maria\n",
      "Gabriel\n",
      "Fernando\n",
      "Fernanda\n",
      "Vinicius\n",
      "Ana\n",
      "Lucas\n",
      "Tatiane\n"
     ]
    }
   ],
   "source": [
    "convidados = [\"Maria\", \"Gabriel\", \"Fernando\", \"Fernanda\", \"Vinicius\", \"Ana\",  \"Lucas\",\"Tatiane\"]\n",
    "\n",
    "for convidado in convidados:\n",
    "    print(convidado)"
   ]
  },
  {
   "cell_type": "markdown",
   "metadata": {},
   "source": [
    "###### * Função range()"
   ]
  },
  {
   "cell_type": "code",
   "execution_count": 5,
   "metadata": {},
   "outputs": [
    {
     "name": "stdout",
     "output_type": "stream",
     "text": [
      "0\n",
      "1\n",
      "2\n",
      "3\n",
      "4\n",
      "5\n",
      "6\n",
      "7\n",
      "********************\n",
      "1\n",
      "2\n",
      "3\n",
      "4\n",
      "5\n"
     ]
    }
   ],
   "source": [
    "for i in range(8):\n",
    "    print(i)\n",
    "\n",
    "print(\"********************\")\n",
    "\n",
    "for i in range(1,6):\n",
    "    print(i)"
   ]
  },
  {
   "cell_type": "code",
   "execution_count": 8,
   "metadata": {},
   "outputs": [
    {
     "name": "stdout",
     "output_type": "stream",
     "text": [
      "[0, 1, 2, 3, 4, 5, 6, 7, 8, 9, 10, 11, 12, 13, 14, 15, 16, 17, 18, 19, 20, 21, 22, 23, 24, 25, 26, 27, 28, 29, 30, 31, 32, 33, 34, 35, 36, 37, 38, 39, 40]\n"
     ]
    }
   ],
   "source": [
    "# Criando uma lista com 50 elementos\n",
    "\n",
    "numeros = []                            # criada uma lista vazia\n",
    "\n",
    "for i in range(0, 41):\n",
    "    numeros.append(i)                   # solicitado para adicionar os 50 elementos na lista vazia\n",
    "print(numeros)"
   ]
  },
  {
   "cell_type": "code",
   "execution_count": 9,
   "metadata": {},
   "outputs": [
    {
     "name": "stdout",
     "output_type": "stream",
     "text": [
      "Fernando\n",
      "Administrador\n",
      "1\n"
     ]
    }
   ],
   "source": [
    "# Comando for com dicionários\n",
    "\n",
    "usuario = {\"nome\":\"Fernando\",\n",
    "           \"tipo de acesso\":\"Administrador\",\n",
    "           \"nivel de acesso\": 1}\n",
    "\n",
    "for valor in usuario.values():\n",
    "    print(valor)"
   ]
  },
  {
   "cell_type": "code",
   "execution_count": 11,
   "metadata": {},
   "outputs": [
    {
     "name": "stdout",
     "output_type": "stream",
     "text": [
      "nome\n",
      "tipo de acesso\n",
      "nivel de acesso\n"
     ]
    }
   ],
   "source": [
    "usuario = {\"nome\":\"Fernando\",\n",
    "           \"tipo de acesso\":\"Administrador\",\n",
    "           \"nivel de acesso\": 1}\n",
    "\n",
    "for chave in usuario.keys():\n",
    "    print(chave)"
   ]
  },
  {
   "cell_type": "code",
   "execution_count": 12,
   "metadata": {},
   "outputs": [
    {
     "name": "stdout",
     "output_type": "stream",
     "text": [
      "Seja muito bem vindo(a) Maria\n",
      "Seja muito bem vindo(a) Gabriel\n",
      "Seja muito bem vindo(a) Fernando\n",
      "Seja muito bem vindo(a) Fernanda\n",
      "Seja muito bem vindo(a) Vinicius\n",
      "Seja muito bem vindo(a) Ana\n",
      "Seja muito bem vindo(a) Lucas\n",
      "Seja muito bem vindo(a) Tatiane\n"
     ]
    }
   ],
   "source": [
    "convidados = [\"Maria\", \"Gabriel\", \"Fernando\", \"Fernanda\", \"Vinicius\", \"Ana\",  \"Lucas\",\"Tatiane\"]\n",
    "\n",
    "for convidado in convidados:\n",
    "    print(f\"Seja muito bem vindo(a) {convidado}\")"
   ]
  },
  {
   "cell_type": "markdown",
   "metadata": {},
   "source": [
    "##### Estrutura condicional - comando if\n",
    "Operadores Aritiméticos \n",
    "- soma: +\n",
    "- subtração: -\n",
    "- multiplicação: *\n",
    "- divisão: /\n",
    "- potenciação: **\n",
    "\n",
    "Operadores Relacionais\n",
    "- igual: ==\n",
    "- maior: >\n",
    "- maior igual: >=\n",
    "- menor: <\n",
    "- menor igual: <="
   ]
  },
  {
   "cell_type": "code",
   "execution_count": 4,
   "metadata": {},
   "outputs": [
    {
     "name": "stdout",
     "output_type": "stream",
     "text": [
      "Pode dirigir!\n"
     ]
    }
   ],
   "source": [
    "idade = 18\n",
    "\n",
    "if idade >= 18:\n",
    "    print(\"Pode dirigir!\")"
   ]
  },
  {
   "cell_type": "code",
   "execution_count": 3,
   "metadata": {},
   "outputs": [
    {
     "name": "stdout",
     "output_type": "stream",
     "text": [
      "Não pode dirigir!\n"
     ]
    }
   ],
   "source": [
    "idade = 10\n",
    "\n",
    "if idade >= 18:\n",
    "    print(\"Pode dirigir!\")\n",
    "else:\n",
    "    print(\"Não pode dirigir!\")"
   ]
  },
  {
   "cell_type": "markdown",
   "metadata": {},
   "source": [
    "#### Aplicação prática"
   ]
  },
  {
   "cell_type": "code",
   "execution_count": 10,
   "metadata": {},
   "outputs": [
    {
     "name": "stdout",
     "output_type": "stream",
     "text": [
      "Idade: 12 anos: \n",
      "Sua idade não permite que você faça uso de bebida alcoólica.Respeite as leis de consumo!\n",
      "Idade: 45 anos: \n",
      "Pela sua idade, você pode fazer consumo de bebida alcoólica. Aprecie com moderação!\n",
      "Idade: 23 anos: \n",
      "Pela sua idade, você pode fazer consumo de bebida alcoólica. Aprecie com moderação!\n",
      "Idade: 67 anos: \n",
      "Pela sua idade, você pode fazer consumo de bebida alcoólica. Aprecie com moderação!\n",
      "Idade: 5 anos: \n",
      "Sua idade não permite que você faça uso de bebida alcoólica.Respeite as leis de consumo!\n",
      "Idade: 6 anos: \n",
      "Sua idade não permite que você faça uso de bebida alcoólica.Respeite as leis de consumo!\n",
      "Idade: 90 anos: \n",
      "Pela sua idade, você pode fazer consumo de bebida alcoólica. Aprecie com moderação!\n",
      "Idade: 2 anos: \n",
      "Sua idade não permite que você faça uso de bebida alcoólica.Respeite as leis de consumo!\n",
      "Idade: 3 anos: \n",
      "Sua idade não permite que você faça uso de bebida alcoólica.Respeite as leis de consumo!\n",
      "Idade: 34 anos: \n",
      "Pela sua idade, você pode fazer consumo de bebida alcoólica. Aprecie com moderação!\n",
      "Idade: 25 anos: \n",
      "Pela sua idade, você pode fazer consumo de bebida alcoólica. Aprecie com moderação!\n",
      "Idade: 17 anos: \n",
      "Sua idade não permite que você faça uso de bebida alcoólica.Respeite as leis de consumo!\n",
      "Idade: 19 anos: \n",
      "Sua idade não permite que você faça uso de bebida alcoólica.Respeite as leis de consumo!\n"
     ]
    }
   ],
   "source": [
    "idades = [12, 45, 23, 67, 5, 6, 90, 2, 3, 34, 25, 17, 19]     # idade compatível para consumo de bebida alcoólica\n",
    "\n",
    "for idade in idades:\n",
    "    print(f\"Idade: {idade} anos: \")\n",
    "    if idade >= 21:\n",
    "        print(\"Pela sua idade, você pode fazer consumo de bebida alcoólica. Aprecie com moderação!\")\n",
    "    else:\n",
    "        print(\"Sua idade não permite que você faça uso de bebida alcoólica.Respeite as leis de consumo!\")"
   ]
  }
 ],
 "metadata": {
  "kernelspec": {
   "display_name": "Python 3",
   "language": "python",
   "name": "python3"
  },
  "language_info": {
   "codemirror_mode": {
    "name": "ipython",
    "version": 3
   },
   "file_extension": ".py",
   "mimetype": "text/x-python",
   "name": "python",
   "nbconvert_exporter": "python",
   "pygments_lexer": "ipython3",
   "version": "3.12.2"
  }
 },
 "nbformat": 4,
 "nbformat_minor": 2
}
